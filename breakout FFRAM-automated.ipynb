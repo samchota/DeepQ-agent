{
 "cells": [
  {
   "cell_type": "code",
   "execution_count": 2,
   "metadata": {},
   "outputs": [
    {
     "name": "stderr",
     "output_type": "stream",
     "text": [
      "Using TensorFlow backend.\n"
     ]
    }
   ],
   "source": [
    "import gym\n",
    "import collections\n",
    "import random\n",
    "import time\n",
    "%matplotlib inline\n",
    "import numpy as np\n",
    "from matplotlib import pyplot as plt\n",
    "from matplotlib import colors\n",
    "from matplotlib.pyplot import *\n",
    "from IPython.display import clear_output\n",
    "import time\n",
    "import csv\n",
    "from gym import envs\n",
    "from keras.layers.core import Dense, Activation, Dropout, Flatten\n",
    "from keras.layers import BatchNormalization, Reshape, UpSampling2D, Conv2DTranspose, LeakyReLU, ZeroPadding2D, Input\n",
    "from keras.layers.convolutional import Conv2D\n",
    "from keras.layers.recurrent import LSTM, GRU\n",
    "from keras.models import Sequential, load_model, Model\n",
    "from keras import regularizers, optimizers\n",
    "from keras.optimizers import RMSprop, Adam\n",
    "from keras.models import Sequential, load_model\n",
    "from keras import regularizers, optimizers\n",
    "from keras.utils import to_categorical\n",
    "#np.random.seed(1234)\n",
    "import scipy.io as sio\n",
    "import scipy as scp\n",
    "from scipy import stats\n",
    "import operator\n",
    "from keras import backend as K\n",
    "import tensorflow as tf\n",
    "import os\n",
    "import keras\n",
    "from keras.models import load_model\n",
    "from IPython.display import display, clear_output\n",
    "from keras.backend.tensorflow_backend import set_session\n",
    "os.environ[\"CUDA_DEVICE_ORDER\"]=\"PCI_BUS_ID\"\n",
    "os.environ[\"CUDA_VISIBLE_DEVICES\"]='0'\n",
    "#config=tf.ConfigProto()\n",
    "#config.gpu_options.per_process_gpu_memory_fraction=0.5\n",
    "#set_session(tf.Session(config=config))"
   ]
  },
  {
   "cell_type": "code",
   "execution_count": 2,
   "metadata": {},
   "outputs": [],
   "source": [
    "#all_envs = envs.registry.all()\n",
    "#env_ids = [env_spec.id for env_spec in all_envs]\n",
    "#print(np.transpose(env_ids)) "
   ]
  },
  {
   "cell_type": "code",
   "execution_count": 3,
   "metadata": {},
   "outputs": [],
   "source": [
    "# FF\n",
    "class DQNAgent:\n",
    "    def __init__(self):\n",
    "        #(210,160,3),6\n",
    "        self.drop = 0\n",
    "        self.state_size = (128,)\n",
    "        self.action_size = 4 # 9 for pacman, 6 for space invader\n",
    "        self.memory = collections.deque(maxlen=1000000)\n",
    "        self.gamma = 0.98    # discount rate 0.95\n",
    "        self.epsilon = 1  # exploration rate 1 \n",
    "        self.epsilon_min = 0.1\n",
    "        self.epsilon_decay = []\n",
    "        self.learning_rate = []\n",
    "        self.time_penalty = 0\n",
    "        self.model = []\n",
    "        self.fix = False\n",
    "    def _build_model(self):\n",
    "        # Neural Net for Deep-Q learning Model\n",
    "        model = Sequential()\n",
    "        \n",
    "        model.add(Dense(128, input_shape=self.state_size, activation='relu'))\n",
    "        #model.add(Dropout(self.drop))\n",
    "                \n",
    "        model.add(Dense(128, activation='relu'))\n",
    "        #model.add(Dropout(self.drop))\n",
    "        \n",
    "        model.add(Dense(128, activation='relu'))\n",
    "        #model.add(Dropout(self.drop))\n",
    "\n",
    "        #model.add(Dense(128, activation='relu'))\n",
    "        #model.add(Dropout(self.drop))\n",
    "        \n",
    "        model.add(Dense(self.action_size, activation='linear'))\n",
    "        \n",
    "        #model.compile(loss='mse', optimizer=RMSprop(lr=self.learning_rate,rho=0.9,epsilon=None, decay = 0.0))\n",
    "        model.compile(loss='mse', optimizer=Adam(lr=self.learning_rate))\n",
    "        model.summary()\n",
    "        return model\n",
    "    def remember(self, state, action, reward, next_state, done):\n",
    "        self.memory.append((state, action, reward, next_state, done))\n",
    "    def act(self, state):\n",
    "        if np.random.rand() <= self.epsilon:\n",
    "            act_values = np.zeros((1,self.action_size))\n",
    "            return act_values,env.action_space.sample()\n",
    "        state = np.expand_dims(state,axis=0)\n",
    "        #print(state.shape)\n",
    "        act_values = self.model.predict(state)\n",
    "        \n",
    "        return act_values,np.argmax(act_values)   # returns action\n",
    "    def replay(self, batch_size):\n",
    "        minibatch = random.sample(self.memory, batch_size)\n",
    "        for state, action, reward, next_state, done in minibatch:\n",
    "            state = np.expand_dims(state,axis=0)\n",
    "            next_state = np.expand_dims(next_state,axis=0)\n",
    "            target = 0 #if we are done the final reward is our target\n",
    "            if not done: #if we are not done the target is the current reward plut the predicted reward from the next state\n",
    "                target = reward + self.gamma * np.amax(self.model.predict(next_state)) \n",
    "                #print(self.gamma * np.amax(self.model.predict(next_state)))\n",
    "            target_f = self.model.predict(state) \n",
    "            #print(target_f)\n",
    "            target_f[0][action] = target - self.time_penalty\n",
    "            \n",
    "            if self.fix == False:    \n",
    "\n",
    "                self.model.fit(state, target_f, epochs=1, verbose=0)\n",
    "                \n",
    "        if self.fix == False:\n",
    "            if self.epsilon > self.epsilon_min:\n",
    "                self.epsilon *= self.epsilon_decay"
   ]
  },
  {
   "cell_type": "code",
   "execution_count": 4,
   "metadata": {},
   "outputs": [],
   "source": [
    "def train_agent(agent,env,episodes,iteration,iterations,fix):\n",
    "    total_reward_counter = np.empty([episodes])\n",
    "    Q_reward_counter = np.empty([episodes])\n",
    "    #agent.epsilon = 1\n",
    "    for e in range(episodes):\n",
    "        \n",
    "        if e > fix: \n",
    "            agent.fix = False\n",
    "        \n",
    "        total_reward = 0\n",
    "        state = env.reset()\n",
    "        state, reward, done, info = env.step(0)\n",
    "        state = state/256\n",
    "        \n",
    "        for time_t in range(10000):\n",
    "\n",
    "            \n",
    "            actvals, action = agent.act(state)\n",
    "\n",
    "            next_state, reward, done, info = env.step(action)\n",
    "            next_state = next_state/256\n",
    "            \n",
    "            if reward>0:\n",
    "                reward = 1\n",
    "            \n",
    "            total_reward = total_reward + reward   \n",
    "\n",
    "            agent.remember(state, action, reward, next_state, done)\n",
    "            state = next_state\n",
    "\n",
    "            if done:\n",
    "                clear_output(wait=True)\n",
    "                print(\"iteration: {}/{}, episode: {}/{}, score: {}, epsilon: {}\".format(iteration+1,iterations ,e+1, episodes, total_reward, agent.epsilon))\n",
    "                Q_reward_counter[e] = np.max(actvals)\n",
    "                total_reward_counter[e] = total_reward\n",
    "\n",
    "                break\n",
    "        agent.replay(32)\n",
    "    return Q_reward_counter, total_reward_counter"
   ]
  },
  {
   "cell_type": "code",
   "execution_count": 5,
   "metadata": {},
   "outputs": [
    {
     "name": "stdout",
     "output_type": "stream",
     "text": [
      "4.0\n",
      "{'ale.lives': 5}\n"
     ]
    },
    {
     "data": {
      "text/plain": [
       "(128,)"
      ]
     },
     "execution_count": 5,
     "metadata": {},
     "output_type": "execute_result"
    }
   ],
   "source": [
    "#env = gym.make('SpaceInvaders-v0')\n",
    "env = gym.make('Breakout-ramDeterministic-v0')\n",
    "balls = np.zeros(1000)\n",
    "for i in  range(1000):\n",
    "    balls[i] = env.action_space.sample()\n",
    "print(np.max(balls)+1)\n",
    "state = env.reset()\n",
    "next_state, reward, done, info = env.step(1)\n",
    "lives_before = info['ale.lives']\n",
    "print(info)\n",
    "state.shape"
   ]
  },
  {
   "cell_type": "code",
   "execution_count": 6,
   "metadata": {},
   "outputs": [
    {
     "name": "stdout",
     "output_type": "stream",
     "text": [
      "iteration: 1/1, episode: 150000/150000, score: 4.0, epsilon: 0.0999932987927909\n"
     ]
    }
   ],
   "source": [
    "fix = 150\n",
    "episodes = 150000 # 100.000\n",
    "\n",
    "\n",
    "learning_rates = [0.002]\n",
    "decay = [0.99992]#,0.99992,0.99992]   #30.000eps\n",
    "\n",
    "iterations = 1\n",
    "\n",
    "total_rewards = np.empty([iterations,episodes])\n",
    "Q_rewards = np.empty([iterations,episodes])\n",
    "\n",
    "for iteration in range(iterations):\n",
    "    env = gym.make('Breakout-ramDeterministic-v0')\n",
    "    agent = DQNAgent() \n",
    "    \n",
    "    agent.fix = True\n",
    "        \n",
    "    #Decay parameter\n",
    "    agent.epsilon_decay = decay[iteration]\n",
    "    \n",
    "    agent.learning_rate = learning_rates[iteration]\n",
    "    agent.model = agent._build_model()\n",
    "    \n",
    "    Q_reward_counter, total_reward_counter = train_agent(agent,env,episodes,iteration,iterations,fix)\n",
    "    \n",
    "    total_rewards[iteration][:] = total_reward_counter\n",
    "    Q_rewards[iteration][:] = Q_reward_counter\n"
   ]
  },
  {
   "cell_type": "code",
   "execution_count": 7,
   "metadata": {},
   "outputs": [
    {
     "name": "stderr",
     "output_type": "stream",
     "text": [
      "/home/sam/samretrogames/lib/python3.6/site-packages/numpy/core/fromnumeric.py:2957: RuntimeWarning: Mean of empty slice.\n",
      "  out=out, **kwargs)\n",
      "/home/sam/samretrogames/lib/python3.6/site-packages/numpy/core/_methods.py:80: RuntimeWarning: invalid value encountered in double_scalars\n",
      "  ret = ret.dtype.type(ret / rcount)\n"
     ]
    },
    {
     "data": {
      "text/plain": [
       "<matplotlib.legend.Legend at 0x7fd79bb768d0>"
      ]
     },
     "execution_count": 7,
     "metadata": {},
     "output_type": "execute_result"
    },
    {
     "data": {
      "image/png": "[encoded data removed]",
      "text/plain": [
       "<Figure size 432x288 with 1 Axes>"
      ]
     },
     "metadata": {},
     "output_type": "display_data"
    }
   ],
   "source": []
  },
  {
   "cell_type": "code",
   "execution_count": 25,
   "metadata": {},
   "outputs": [
    {
     "name": "stderr",
     "output_type": "stream",
     "text": [
      "/home/sam/samretrogames/lib/python3.6/site-packages/numpy/core/fromnumeric.py:2957: RuntimeWarning: Mean of empty slice.\n",
      "  out=out, **kwargs)\n",
      "/home/sam/samretrogames/lib/python3.6/site-packages/numpy/core/_methods.py:80: RuntimeWarning: invalid value encountered in double_scalars\n",
      "  ret = ret.dtype.type(ret / rcount)\n"
     ]
    },
    {
     "data": {
      "text/plain": [
       "Text(0.5,1,'Q Values')"
      ]
     },
     "execution_count": 25,
     "metadata": {},
     "output_type": "execute_result"
    },
    {
     "data": {
      "image/png": "[encoded data removed]",
      "text/plain": [
       "<Figure size 720x360 with 2 Axes>"
      ]
     },
     "metadata": {},
     "output_type": "display_data"
    }
   ],
   "source": [
    "iterations = 1\n",
    "plt.figure(figsize=(10,5))\n",
    "a = subplot(121)\n",
    "#iterations = 10\n",
    "#iteration_value = optim\n",
    "window = 5000\n",
    "\n",
    "total_avg_all = np.empty([iterations,episodes-(window*2)])\n",
    "#x = np.arange(episodes)\n",
    "for iteration in range(iterations):\n",
    "    total_avg = np.zeros([episodes-(window*2)])\n",
    "    for pnts in range(total_rewards[iteration].shape[0]-(window*2)):\n",
    "        total_avg[pnts] =  np.mean(total_rewards[iteration][(pnts-window) : pnts+window])\n",
    "\n",
    "    perf, = plt.plot(np.float32(total_avg))\n",
    "    total_avg_all[iteration] = total_avg \n",
    "#legend()\n",
    "plt.plot(np.mean(total_avg_all,0),linewidth=4.0,color='b')\n",
    "plt.axis([0, episodes, 1.5, 2.5])\n",
    "title('Total Reward')\n",
    "subplot(122)\n",
    "\n",
    "#iteration_value = optim\n",
    "\n",
    "rew_avg_all = np.empty([iterations,episodes-(window*2)])\n",
    "#x = np.arange(episodes)\n",
    "for iteration in range(iterations):\n",
    "    rew_avg = np.zeros([episodes-(window*2)])\n",
    "    for pnts in range(Q_rewards[iteration].shape[0]-(window*2)):\n",
    "        rew_avg[pnts] =  np.mean(Q_rewards[iteration][(pnts-window) : pnts+window])\n",
    "\n",
    "    perf, = plt.plot(np.float32(rew_avg))\n",
    "    rew_avg_all[iteration] = rew_avg \n",
    "#legend()\n",
    "plt.plot(np.mean(rew_avg_all,0),linewidth=4.0,color='b')\n",
    "plt.axis([0, episodes, 0.4, 1.4])\n",
    "title('Q Values')"
   ]
  },
  {
   "cell_type": "code",
   "execution_count": 13,
   "metadata": {},
   "outputs": [],
   "source": [
    "np.savetxt('total_reward3.csv',np.transpose(total_rewards),delimiter=\",\")"
   ]
  },
  {
   "cell_type": "code",
   "execution_count": 23,
   "metadata": {},
   "outputs": [],
   "source": [
    "agent.model.save('breakoutfeedforwardRAM150k.h5')"
   ]
  },
  {
   "cell_type": "code",
   "execution_count": null,
   "metadata": {},
   "outputs": [],
   "source": [
    "# iterations = 1\n",
    "# window = 1000\n",
    "\n",
    "# #x = np.arange(episodes)\n",
    "# for iteration in range(iterations):\n",
    "#     rew_avg = np.zeros([episodes-(window*2)])\n",
    "#     for pnts in range(total_rewards[iteration].shape[0]-(window*2)):\n",
    "#         rew_avg[pnts] =  np.mean(total_rewards[iteration][(pnts-window) : pnts+window])\n",
    "\n",
    "#     perf, = plt.plot(np.float32(rew_avg),label = iteration)\n",
    "# legend()"
   ]
  },
  {
   "cell_type": "code",
   "execution_count": 10,
   "metadata": {},
   "outputs": [],
   "source": [
    "# window = 50\n",
    "# rew_avg = np.empty([episodes])\n",
    "# for pnts in range(window,total_reward_counter.shape[0]):\n",
    "#     rew_avg[pnts] =  np.mean(total_reward_counter[(pnts-window) : pnts+window])\n",
    "# plt.plot(total_reward_counter)\n",
    "# plt.plot(rew_avg)\n",
    "# plt.axis([0, total_reward_counter.shape[0], np.min(rew_avg), np.max(rew_avg)])\n",
    "# np.argmax(rew_avg)"
   ]
  },
  {
   "cell_type": "code",
   "execution_count": null,
   "metadata": {},
   "outputs": [
    {
     "data": {
      "image/png": "[encoded data removed]",
      "text/plain": [
       "<Figure size 432x288 with 1 Axes>"
      ]
     },
     "metadata": {},
     "output_type": "display_data"
    },
    {
     "name": "stdout",
     "output_type": "stream",
     "text": [
      "7.0\n",
      "584\n"
     ]
    }
   ],
   "source": [
    "#playtest\n",
    "frms = 0\n",
    "env = gym.make('Breakout-ramDeterministic-v0')\n",
    "print(env)\n",
    "agent = DQNAgent()\n",
    "agent.model = keras.models.load_model('breakoutfeedforwardRAM150k.h5')\n",
    "\n",
    "#envisual = gym.make('BreakoutDeterministic-v0')\n",
    "state = env.reset()\n",
    "#statevisual = envisual.reset()\n",
    "\n",
    "\n",
    "\n",
    "plt.ion()\n",
    "fig = plt.figure()\n",
    "\n",
    "\n",
    "plt.axis([0, 432, 0, 288])\n",
    "agent.epsilon = 0.1;\n",
    "actgrid = [[0,0,0],[0,0,0]]\n",
    "tot_rew = 0\n",
    "#for e in range(10000):\n",
    "#    state = env.reset()\n",
    "#statevisual = envisual.reset()\n",
    "for time_t in range(10000):\n",
    "    clear_output(wait=True)\n",
    "\n",
    "    #state = np.expand_dims(state,axis=4)\n",
    "\n",
    "\n",
    "    actvals, action = agent.act(state)\n",
    "    state = np.expand_dims(state,axis=0)\n",
    "    expectation = np.amax(agent.model.predict(state))\n",
    "    #print(state)\n",
    "\n",
    "    #print(agent.model.predict(np.random.rand(1,128)))\n",
    "\n",
    "    #actgrid[0][0] = actvals[0][5]\n",
    "    #actgrid[0][1] = actvals[0][1]\n",
    "    #actgrid[0][2] = actvals[0][4]\n",
    "\n",
    "    actgrid[0][0] = actvals[0][3]\n",
    "    actgrid[0][1] = actvals[0][0]\n",
    "    actgrid[0][2] = actvals[0][2]\n",
    "\n",
    "    actgrid[1][0] = actvals[0][3]\n",
    "    actgrid[1][1] = actvals[0][0]\n",
    "    actgrid[1][2] = actvals[0][2]\n",
    "\n",
    "    #actgrid[2][0] = actvals[0][8]\n",
    "    #actgrid[2][1] = actvals[0][4]\n",
    "    #actgrid[2][2] = actvals[0][7]\n",
    "\n",
    "    #action = 3\n",
    "    state, reward1, done, _ = env.step(action)\n",
    "    tot_rew = tot_rew+reward1\n",
    "    #statevisual, reward2, done, info = envisual.step(action)\n",
    "    #state, reward, done, _ = env.step(0)\n",
    "\n",
    "    #print(actvals)\n",
    "    #print(actgrid)\n",
    "\n",
    "    #f, axarr = plt.subplots(1,2)\n",
    "\n",
    "    #cmap = colors.Colormap('magma',N = 256)\n",
    "    #norm = colors.Normalize(np.min(actgrid),np.max(actgrid),clip=True)\n",
    "    #print(actgrid)\n",
    "    #print(zactgrid)\n",
    "    #axarr[0].imshow(actgrid,vmin = np.min(actgrid), vmax = np.max(actgrid))\n",
    "    plt.imshow(actgrid,vmin = np.min(actgrid), vmax = np.max(actgrid))\n",
    "    #axarr[1].imshow(statevisual)\n",
    "    env.render()\n",
    "\n",
    "\n",
    "\n",
    "    plt.show()\n",
    "    #print(action)\n",
    "    #print(expectation)\n",
    "    #print(info)\n",
    "    print(tot_rew)\n",
    "    print(frms)\n",
    "    #print(reward2)\n",
    "    #time.sleep(0.001)\n",
    "    #print(action)\n",
    "\n",
    "\n",
    "    frms = frms+1\n",
    "\n",
    "    if done:\n",
    "        env.close()\n",
    "        break\n",
    "        "
   ]
  },
  {
   "cell_type": "code",
   "execution_count": 12,
   "metadata": {},
   "outputs": [],
   "source": [
    "#agent.model.save('breakoutfeedforwardRAM10k.h5')"
   ]
  }
 ],
 "metadata": {
  "kernelspec": {
   "display_name": "samretrogames",
   "language": "python",
   "name": "samretrogames"
  },
  "language_info": {
   "codemirror_mode": {
    "name": "ipython",
    "version": 3
   },
   "file_extension": ".py",
   "mimetype": "text/x-python",
   "name": "python",
   "nbconvert_exporter": "python",
   "pygments_lexer": "ipython3",
   "version": "3.6.6"
  }
 },
 "nbformat": 4,
 "nbformat_minor": 2
}
